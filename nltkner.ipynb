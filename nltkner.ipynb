{
 "cells": [
  {
   "cell_type": "code",
   "execution_count": 15,
   "metadata": {},
   "outputs": [],
   "source": [
    "import os\n",
    "import glob\n",
    "import PyPDF2\n",
    "import random\n",
    "import nltk\n",
    "import sklearn"
   ]
  },
  {
   "cell_type": "code",
   "execution_count": 6,
   "metadata": {},
   "outputs": [
    {
     "data": {
      "text/plain": [
       "'C:\\\\Users\\\\maheshwaram\\\\Desktop\\\\HSAI\\\\resume parser'"
      ]
     },
     "execution_count": 6,
     "metadata": {},
     "output_type": "execute_result"
    }
   ],
   "source": [
    "os.getcwd()"
   ]
  },
  {
   "cell_type": "code",
   "execution_count": 4,
   "metadata": {},
   "outputs": [
    {
     "name": "stdout",
     "output_type": "stream",
     "text": [
      "Collecting PyPDF2\n",
      "  Downloading https://files.pythonhosted.org/packages/b4/01/68fcc0d43daf4c6bdbc6b33cc3f77bda531c86b174cac56ef0ffdb96faab/PyPDF2-1.26.0.tar.gz (77kB)\n",
      "Building wheels for collected packages: PyPDF2\n",
      "  Building wheel for PyPDF2 (setup.py): started\n",
      "  Building wheel for PyPDF2 (setup.py): finished with status 'done'\n",
      "  Stored in directory: C:\\Users\\maheshwaram\\AppData\\Local\\pip\\Cache\\wheels\\53\\84\\19\\35bc977c8bf5f0c23a8a011aa958acd4da4bbd7a229315c1b7\n",
      "Successfully built PyPDF2\n",
      "Installing collected packages: PyPDF2\n",
      "Successfully installed PyPDF2-1.26.0\n"
     ]
    }
   ],
   "source": [
    "import sys\n",
    "!{sys.executable} -m pip install PyPDF2"
   ]
  },
  {
   "cell_type": "code",
   "execution_count": 7,
   "metadata": {},
   "outputs": [],
   "source": [
    "path='*.pdf'"
   ]
  },
  {
   "cell_type": "code",
   "execution_count": 8,
   "metadata": {},
   "outputs": [],
   "source": [
    "files=glob.glob(path)"
   ]
  },
  {
   "cell_type": "code",
   "execution_count": 9,
   "metadata": {},
   "outputs": [
    {
     "name": "stdout",
     "output_type": "stream",
     "text": [
      "['524SUSHANTH.PDF', '855SIDDHART.pdf', '902SARTHAK.pdf']\n"
     ]
    }
   ],
   "source": [
    "print(files) # initial file names were differnt "
   ]
  },
  {
   "cell_type": "code",
   "execution_count": null,
   "metadata": {},
   "outputs": [],
   "source": [
    "len(files)"
   ]
  },
  {
   "cell_type": "code",
   "execution_count": null,
   "metadata": {},
   "outputs": [],
   "source": [
    "from random import randint"
   ]
  },
  {
   "cell_type": "code",
   "execution_count": null,
   "metadata": {},
   "outputs": [],
   "source": [
    "for x in range(0,len(files)):\n",
    "    randomid=random.randint(100,999)\n",
    "    print(randomid)\n",
    "    "
   ]
  },
  {
   "cell_type": "code",
   "execution_count": null,
   "metadata": {},
   "outputs": [],
   "source": [
    "#ids 902,855,524\n",
    "os.rename(\"SARTHAK859.pdf\",\"902SARTHAK.pdf\")\n",
    "os.rename(\"SIDDHART812.pdf\",\"855SIDDHART.pdf\")\n",
    "os.rename(\"SUSHANTH473.pdf\",\"524SUSHANTH.PDF\")"
   ]
  },
  {
   "cell_type": "code",
   "execution_count": 10,
   "metadata": {},
   "outputs": [
    {
     "data": {
      "text/plain": [
       "['524SUSHANTH.PDF', '855SIDDHART.pdf', '902SARTHAK.pdf']"
      ]
     },
     "execution_count": 10,
     "metadata": {},
     "output_type": "execute_result"
    }
   ],
   "source": [
    "files"
   ]
  },
  {
   "cell_type": "code",
   "execution_count": 11,
   "metadata": {},
   "outputs": [
    {
     "data": {
      "text/plain": [
       "[1, 1, 2]"
      ]
     },
     "execution_count": 11,
     "metadata": {},
     "output_type": "execute_result"
    }
   ],
   "source": [
    "pages=[]\n",
    "for i in range(0,len(files)):\n",
    "    pdfread=PyPDF2.PdfFileReader(files[i])\n",
    "    number_of_pages = pdfread.getNumPages()\n",
    "    pages.append(number_of_pages) \n",
    "pages   "
   ]
  },
  {
   "cell_type": "code",
   "execution_count": 12,
   "metadata": {},
   "outputs": [],
   "source": [
    "from nltk.corpus import stopwords"
   ]
  },
  {
   "cell_type": "code",
   "execution_count": 13,
   "metadata": {},
   "outputs": [],
   "source": [
    "from sklearn.feature_extraction.text import TfidfVectorizer"
   ]
  },
  {
   "cell_type": "code",
   "execution_count": 16,
   "metadata": {},
   "outputs": [
    {
     "name": "stdout",
     "output_type": "stream",
     "text": [
      "[('kharagpur', 6), ('iit', 5), ('gupta', 4), ('education', 4), ('c', 4), ('developed', 4), ('india', 4), ('awarded', 4), ('f', 3), ('science', 3), ('team', 3), ('b', 3), ('vancouver', 3), ('computer', 2), ('class', 2), ('central', 2), ('board', 2), ('x', 2), ('development', 2), ('concept', 2), ('global', 2), ('plan', 2), ('indian', 2), ('among', 2), ('http', 2), ('usd', 2), ('bc', 2), ('structure', 2), ('java', 2), ('programs', 2), ('web', 2), ('based', 2), ('trees', 2), ('project', 2), ('adani', 2), ('group', 2), ('sap', 2), ('academic', 2), ('mitacs', 2), ('scholarship', 2), ('hall', 2), ('sushant', 1), ('male', 1), ('yrs', 1), ('ifth', 1), ('year', 1), ('student', 1), ('engineering', 1), ('xii', 1), ('seconda', 1)]\n",
      "  (0, 251)\t1.0\n",
      "  (1, 120)\t1.0\n",
      "  (2, 159)\t1.0\n",
      "  (3, 288)\t1.0\n",
      "  (4, 71)\t1.0\n",
      "  (6, 129)\t1.0\n",
      "  (7, 286)\t1.0\n",
      "  (8, 245)\t1.0\n",
      "  (9, 51)\t1.0\n",
      "  (10, 227)\t1.0\n",
      "  (11, 80)\t1.0\n",
      "  (12, 130)\t1.0\n",
      "  (13, 149)\t1.0\n",
      "  (14, 41)\t1.0\n",
      "  (15, 285)\t1.0\n",
      "  (16, 36)\t1.0\n",
      "  (17, 31)\t1.0\n",
      "  (18, 230)\t1.0\n",
      "  (19, 222)\t1.0\n",
      "  (20, 71)\t1.0\n",
      "  (21, 41)\t1.0\n",
      "  (23, 36)\t1.0\n",
      "  (24, 31)\t1.0\n",
      "  (25, 231)\t1.0\n",
      "  (26, 71)\t1.0\n",
      "  :\t:\n",
      "  (338, 223)\t1.0\n",
      "  (339, 100)\t1.0\n",
      "  (340, 24)\t1.0\n",
      "  (341, 182)\t1.0\n",
      "  (342, 218)\t1.0\n",
      "  (343, 219)\t1.0\n",
      "  (344, 13)\t1.0\n",
      "  (345, 236)\t1.0\n",
      "  (346, 150)\t1.0\n",
      "  (347, 156)\t1.0\n",
      "  (348, 188)\t1.0\n",
      "  (349, 157)\t1.0\n",
      "  (350, 250)\t1.0\n",
      "  (351, 175)\t1.0\n",
      "  (352, 252)\t1.0\n",
      "  (354, 22)\t1.0\n",
      "  (355, 122)\t1.0\n",
      "  (356, 214)\t1.0\n",
      "  (357, 135)\t1.0\n",
      "  (358, 141)\t1.0\n",
      "  (359, 259)\t1.0\n",
      "  (360, 149)\t1.0\n",
      "  (361, 283)\t1.0\n",
      "  (362, 27)\t1.0\n",
      "  (363, 134)\t1.0\n",
      "[('iit', 6), ('kharagpur', 6), ('india', 5), ('team', 5), ('school', 4), ('tech', 4), ('home', 4), ('delivery', 4), ('national', 4), ('rank', 4), ('science', 3), ('central', 3), ('achievements', 3), ('algorithms', 3), ('developed', 3), ('java', 3), ('program', 3), ('internship', 3), ('student', 3), ('b', 2), ('engineering', 2), ('class', 2), ('hindu', 2), ('varanasi', 2), ('academic', 2), ('project', 2), ('indexing', 2), ('mapreduce', 2), ('work', 2), ('retrieval', 2), ('distributed', 2), ('information', 2), ('data', 2), ('different', 2), ('web', 2), ('services', 2), ('integrated', 2), ('byte', 2), ('code', 2), ('level', 2), ('ibm', 2), ('pune', 2), ('perspective', 2), ('organized', 2), ('module', 2), ('systems', 2), ('member', 2), ('centre', 2), ('campus', 2), ('students', 2)]\n",
      "  (0, 204)\t1.0\n",
      "  (1, 179)\t1.0\n",
      "  (2, 192)\t1.0\n",
      "  (3, 60)\t1.0\n",
      "  (4, 66)\t1.0\n",
      "  (5, 146)\t1.0\n",
      "  (6, 197)\t1.0\n",
      "  (7, 29)\t1.0\n",
      "  (8, 38)\t1.0\n",
      "  (9, 61)\t1.0\n",
      "  (10, 55)\t1.0\n",
      "  (12, 233)\t1.0\n",
      "  (14, 233)\t1.0\n",
      "  (15, 39)\t1.0\n",
      "  (16, 198)\t1.0\n",
      "  (17, 68)\t1.0\n",
      "  (18, 110)\t1.0\n",
      "  (19, 114)\t1.0\n",
      "  (20, 235)\t1.0\n",
      "  (21, 126)\t1.0\n",
      "  (22, 5)\t1.0\n",
      "  (23, 30)\t1.0\n",
      "  (24, 255)\t1.0\n",
      "  (25, 25)\t1.0\n",
      "  (26, 96)\t1.0\n",
      "  :\t:\n",
      "  (328, 156)\t1.0\n",
      "  (329, 25)\t1.0\n",
      "  (330, 113)\t1.0\n",
      "  (331, 240)\t1.0\n",
      "  (332, 168)\t1.0\n",
      "  (333, 69)\t1.0\n",
      "  (334, 129)\t1.0\n",
      "  (335, 28)\t1.0\n",
      "  (336, 196)\t1.0\n",
      "  (337, 2)\t1.0\n",
      "  (338, 248)\t1.0\n",
      "  (339, 150)\t1.0\n",
      "  (340, 241)\t1.0\n",
      "  (341, 23)\t1.0\n",
      "  (342, 10)\t1.0\n",
      "  (343, 150)\t1.0\n",
      "  (344, 213)\t1.0\n",
      "  (345, 74)\t1.0\n",
      "  (346, 163)\t1.0\n",
      "  (347, 184)\t1.0\n",
      "  (348, 24)\t1.0\n",
      "  (349, 144)\t1.0\n",
      "  (350, 195)\t1.0\n",
      "  (351, 159)\t1.0\n",
      "  (352, 257)\t1.0\n",
      "[('state', 3), ('examination', 3), ('india', 3), ('windows', 3), ('kharagpur', 2), ('academic', 2), ('technology', 2), ('science', 2), ('engineering', 2), ('semester', 2), ('th', 2), ('class', 2), ('entrance', 2), ('rank', 2), ('students', 2), ('appeared', 2), ('ranked', 2), ('level', 2), ('languages', 2), ('pune', 2), ('work', 2), ('service', 2), ('manager', 2), ('sarthak', 1), ('jain', 1), ('azad', 1), ('hall', 1), ('residence', 1), ('iit', 1), ('pin', 1), ('email', 1), ('sarthakiitkgp', 1), ('qualifications', 1), ('year', 1), ('degree', 1), ('certificate', 1), ('cgpa', 1), ('percentage', 1), ('present', 1), ('bachelor', 1), ('hons', 1), ('computer', 1), ('currently', 1), ('indian', 1), ('institute', 1), ('end', 1), ('xii', 1), ('cbse', 1), ('modi', 1), ('public', 1)]\n",
      "  (0, 76)\t1.0\n",
      "  (1, 41)\t1.0\n",
      "  (2, 7)\t1.0\n",
      "  (3, 31)\t1.0\n",
      "  (4, 75)\t1.0\n",
      "  (5, 35)\t1.0\n",
      "  (6, 46)\t1.0\n",
      "  (7, 63)\t1.0\n",
      "  (8, 25)\t1.0\n",
      "  (9, 77)\t1.0\n",
      "  (10, 1)\t1.0\n",
      "  (11, 69)\t1.0\n",
      "  (12, 102)\t1.0\n",
      "  (13, 19)\t1.0\n",
      "  (14, 13)\t1.0\n",
      "  (15, 14)\t1.0\n",
      "  (16, 61)\t1.0\n",
      "  (17, 64)\t1.0\n",
      "  (18, 8)\t1.0\n",
      "  (19, 91)\t1.0\n",
      "  (20, 32)\t1.0\n",
      "  (21, 17)\t1.0\n",
      "  (22, 79)\t1.0\n",
      "  (23, 27)\t1.0\n",
      "  (24, 18)\t1.0\n",
      "  :\t:\n",
      "  (106, 67)\t1.0\n",
      "  (107, 55)\t1.0\n",
      "  (108, 45)\t1.0\n",
      "  (109, 100)\t1.0\n",
      "  (110, 93)\t1.0\n",
      "  (111, 82)\t1.0\n",
      "  (112, 6)\t1.0\n",
      "  (113, 52)\t1.0\n",
      "  (114, 30)\t1.0\n",
      "  (115, 0)\t1.0\n",
      "  (116, 3)\t1.0\n",
      "  (117, 21)\t1.0\n",
      "  (118, 52)\t1.0\n",
      "  (119, 94)\t1.0\n",
      "  (120, 67)\t1.0\n",
      "  (121, 100)\t1.0\n",
      "  (122, 23)\t1.0\n",
      "  (123, 11)\t1.0\n",
      "  (124, 85)\t1.0\n",
      "  (125, 88)\t1.0\n",
      "  (126, 99)\t1.0\n",
      "  (127, 99)\t1.0\n",
      "  (128, 98)\t1.0\n",
      "  (129, 82)\t1.0\n",
      "  (130, 65)\t1.0\n",
      "[('kharagpur', 5), ('science', 5), ('engineering', 5), ('work', 5), ('iit', 4), ('computer', 4), ('guide', 4), ('done', 4), ('azad', 3), ('hall', 3), ('residence', 3), ('state', 3), ('examination', 3), ('india', 3), ('windows', 3), ('topic', 3), ('dept', 3), ('features', 3), ('academic', 2), ('technology', 2), ('semester', 2), ('th', 2), ('class', 2), ('achievements', 2), ('entrance', 2), ('rank', 2), ('students', 2), ('appeared', 2), ('ranked', 2), ('level', 2), ('languages', 2), ('pune', 2), ('may', 2), ('service', 2), ('manager', 2), ('personal', 2), ('blogs', 2), ('analysis', 2), ('testing', 2), ('different', 2), ('program', 2), ('constructs', 2), ('member', 2), ('medal', 2), ('team', 2), ('sarthak', 1), ('jain', 1), ('pin', 1), ('email', 1), ('sarthakiitkgp', 1)]\n",
      "  (0, 133)\t1.0\n",
      "  (1, 68)\t1.0\n",
      "  (2, 12)\t1.0\n",
      "  (3, 54)\t1.0\n",
      "  (4, 129)\t1.0\n",
      "  (5, 60)\t1.0\n",
      "  (6, 73)\t1.0\n",
      "  (7, 109)\t1.0\n",
      "  (8, 43)\t1.0\n",
      "  (9, 134)\t1.0\n",
      "  (10, 1)\t1.0\n",
      "  (11, 121)\t1.0\n",
      "  (12, 168)\t1.0\n",
      "  (13, 32)\t1.0\n",
      "  (14, 21)\t1.0\n",
      "  (15, 22)\t1.0\n",
      "  (16, 106)\t1.0\n",
      "  (17, 111)\t1.0\n",
      "  (18, 13)\t1.0\n",
      "  (19, 152)\t1.0\n",
      "  (20, 56)\t1.0\n",
      "  (21, 25)\t1.0\n",
      "  (22, 136)\t1.0\n",
      "  (23, 46)\t1.0\n",
      "  (24, 29)\t1.0\n",
      "  :\t:\n",
      "  (221, 110)\t1.0\n",
      "  (222, 130)\t1.0\n",
      "  (223, 169)\t1.0\n",
      "  (224, 49)\t1.0\n",
      "  (225, 30)\t1.0\n",
      "  (226, 2)\t1.0\n",
      "  (227, 88)\t1.0\n",
      "  (228, 141)\t1.0\n",
      "  (229, 87)\t1.0\n",
      "  (230, 165)\t1.0\n",
      "  (231, 102)\t1.0\n",
      "  (232, 151)\t1.0\n",
      "  (233, 12)\t1.0\n",
      "  (234, 54)\t1.0\n",
      "  (235, 129)\t1.0\n",
      "  (236, 88)\t1.0\n",
      "  (237, 55)\t1.0\n",
      "  (238, 41)\t1.0\n",
      "  (239, 151)\t1.0\n",
      "  (240, 78)\t1.0\n",
      "  (241, 12)\t1.0\n",
      "  (242, 54)\t1.0\n",
      "  (243, 129)\t1.0\n",
      "  (244, 52)\t1.0\n",
      "  (245, 87)\t1.0\n"
     ]
    }
   ],
   "source": [
    "tokens=[\"tokens0\",\"tokens1\",\"tokens2\"]\n",
    "for i in range(0,len(files)):\n",
    "    pd=open(files[i],\"rb\")\n",
    "    pdfread=PyPDF2.PdfFileReader(pd)\n",
    "    a=\"\"\n",
    "    for j in range(0,pages[i]):\n",
    "        pageObj = pdfread.getPage(j)\n",
    "        a+=pageObj.extractText()\n",
    "        #print(a)\n",
    "        words = nltk.word_tokenize(a)\n",
    "        # to remove punctutions\n",
    "        words=[word.lower() for word in words if word.isalpha()]\n",
    "        #print(\"length of words in each page\")\n",
    "        #print(len(words))\n",
    "        # Reading the stopwords from the corpus\n",
    "        stop = stopwords.words('english')\n",
    "         # Removing the stop words from the text\n",
    "        tokens[i]= [token for token in words if token not in stop]\n",
    "        #print(\"length of tokens in each page\")\n",
    "        #print(len(tokens[i])) \n",
    "        word_count = nltk.FreqDist(tokens[i])\n",
    "        print(word_count.most_common(50))\n",
    "        vectorizer = TfidfVectorizer()\n",
    "        tfidf = vectorizer.fit_transform(tokens[i])\n",
    "        print(tfidf)\n",
    "        \n",
    "    a=a.replace('\\n','')"
   ]
  },
  {
   "cell_type": "code",
   "execution_count": null,
   "metadata": {},
   "outputs": [],
   "source": []
  },
  {
   "cell_type": "code",
   "execution_count": null,
   "metadata": {},
   "outputs": [],
   "source": []
  }
 ],
 "metadata": {
  "kernelspec": {
   "display_name": "Python 3",
   "language": "python",
   "name": "python3"
  },
  "language_info": {
   "codemirror_mode": {
    "name": "ipython",
    "version": 3
   },
   "file_extension": ".py",
   "mimetype": "text/x-python",
   "name": "python",
   "nbconvert_exporter": "python",
   "pygments_lexer": "ipython3",
   "version": "3.7.3"
  }
 },
 "nbformat": 4,
 "nbformat_minor": 2
}
